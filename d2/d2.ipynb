{
 "cells": [
  {
   "cell_type": "code",
   "execution_count": 135,
   "id": "0990b8a6-8ef4-4f9b-8c5f-93b3b37fb645",
   "metadata": {},
   "outputs": [],
   "source": [
    "def get_input():\n",
    "    with open(\"input.txt\", \"r\") as input:\n",
    "    \tlines = input.readlines()\n",
    "    for i in range(len(lines)):\n",
    "        lines[i] = lines[i].replace('\\n', '')\n",
    "    return lines"
   ]
  },
  {
   "cell_type": "code",
   "execution_count": 136,
   "id": "904cecb0-6a2d-4162-b377-8d9f0f484033",
   "metadata": {},
   "outputs": [],
   "source": [
    "d = list(map(lambda x: x.replace('Game ', '').split(': '), get_input()))\n",
    "d = list(map(lambda x: (x[0], x[1].replace('; ', ', ').split(', ')), d))\n",
    "d = list(map(lambda x: (x[0], [y.split(' ') for y in x[1]]), d))"
   ]
  },
  {
   "cell_type": "code",
   "execution_count": 137,
   "id": "749c6e97-d934-4c16-a9d5-71f907848742",
   "metadata": {},
   "outputs": [],
   "source": [
    "games = []\n",
    "for game in d:\n",
    "    colors = {\n",
    "        'blue': max([int(x[0]) for x in game[1] if x[1] == 'blue']),\n",
    "        'red': max([int(x[0]) for x in game[1] if x[1] == 'red']),\n",
    "        'green': max([int(x[0]) for x in game[1] if x[1] == 'green']) \n",
    "    }\n",
    "    games.append((game[0], colors))"
   ]
  },
  {
   "cell_type": "markdown",
   "id": "4e4c6d2c-bbb4-4f71-bd00-8f3295a2f5a9",
   "metadata": {},
   "source": [
    "## Part 1"
   ]
  },
  {
   "cell_type": "code",
   "execution_count": 140,
   "id": "1a5b183a-bad3-4c05-8d4d-2870928d3ef0",
   "metadata": {},
   "outputs": [
    {
     "data": {
      "text/plain": [
       "2268"
      ]
     },
     "execution_count": 140,
     "metadata": {},
     "output_type": "execute_result"
    }
   ],
   "source": [
    "sum = 0\n",
    "for g in games:\n",
    "    if g[1]['blue'] <= 14 and g[1]['red'] <= 12 and g[1]['green'] <= 13:\n",
    "        sum = sum + int(g[0])\n",
    "sum\n",
    "        "
   ]
  },
  {
   "cell_type": "markdown",
   "id": "5e09f7fe-9a90-49d7-a6a4-c94430b147df",
   "metadata": {},
   "source": [
    "## Part 2"
   ]
  },
  {
   "cell_type": "code",
   "execution_count": 141,
   "id": "5c00fbbc-d50a-4bca-abfe-7a3d736c07ba",
   "metadata": {},
   "outputs": [
    {
     "data": {
      "text/plain": [
       "63542"
      ]
     },
     "execution_count": 141,
     "metadata": {},
     "output_type": "execute_result"
    }
   ],
   "source": [
    "sum = 0\n",
    "for g in games:\n",
    "   sum = sum + (g[1]['blue'] * g[1]['red'] * g[1]['green'])\n",
    "sum"
   ]
  },
  {
   "cell_type": "code",
   "execution_count": null,
   "id": "8a841d95-1152-44f2-894f-2d2f7d3ad644",
   "metadata": {},
   "outputs": [],
   "source": []
  }
 ],
 "metadata": {
  "kernelspec": {
   "display_name": "Python 3 (ipykernel)",
   "language": "python",
   "name": "python3"
  },
  "language_info": {
   "codemirror_mode": {
    "name": "ipython",
    "version": 3
   },
   "file_extension": ".py",
   "mimetype": "text/x-python",
   "name": "python",
   "nbconvert_exporter": "python",
   "pygments_lexer": "ipython3",
   "version": "3.10.5"
  }
 },
 "nbformat": 4,
 "nbformat_minor": 5
}
