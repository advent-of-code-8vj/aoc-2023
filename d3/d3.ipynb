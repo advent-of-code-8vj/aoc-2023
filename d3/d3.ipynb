{
 "cells": [
  {
   "cell_type": "code",
   "execution_count": 115,
   "id": "binding-hometown",
   "metadata": {},
   "outputs": [],
   "source": [
    "def get_input():\n",
    "    with open(\"input.txt\", \"r\") as f:\n",
    "        lines = f.readlines()\n",
    "    \n",
    "    for i in range(len(lines)):\n",
    "        lines[i] = lines[i].replace('\\n', '')\n",
    "    return lines\n",
    "    "
   ]
  },
  {
   "cell_type": "code",
   "execution_count": 116,
   "id": "fitting-optics",
   "metadata": {},
   "outputs": [],
   "source": [
    "def get_coords_around(x,y):\n",
    "    return [\n",
    "        (x,y-1),\n",
    "        (x,y+1),\n",
    "        (x-1,y),\n",
    "        (x+1,y),\n",
    "        (x-1,y+1),\n",
    "        (x-1,y-1),\n",
    "        (x+1,y+1),\n",
    "        (x+1,y-1),\n",
    "    ]\n",
    "\n",
    "legit_coords = []\n",
    "lines = get_input()\n",
    "\n",
    "for y in range(len(lines)):\n",
    "    for x in range(len(lines[y])):\n",
    "        if lines[y][x] != '.' and not lines[y][x].isdigit():\n",
    "            for c in get_coords_around(x,y):\n",
    "                legit_coords.append(c)\n",
    "               \n",
    "legit_coords = set(legit_coords)"
   ]
  },
  {
   "cell_type": "code",
   "execution_count": 117,
   "id": "bearing-caribbean",
   "metadata": {},
   "outputs": [],
   "source": [
    "part_coords = []\n",
    "for y in range(len(lines)):\n",
    "    word = ''\n",
    "    word_coords = []\n",
    "    for x in range(len(lines[y])):\n",
    "        c = lines[y][x]\n",
    "        if c.isdigit():\n",
    "            word_coords.append((x,y))\n",
    "            word = word + c\n",
    "        else:\n",
    "            if len(word_coords) > 0 and len(word) > 0:\n",
    "                part_coords.append((int(word), word_coords))\n",
    "                word = ''\n",
    "                word_coords = []\n",
    "\n",
    "    if len(word_coords) > 0 and len(word) > 0:\n",
    "        part_coords.append((int(word), word_coords))\n",
    "        word = ''\n",
    "        word_coords = []"
   ]
  },
  {
   "cell_type": "code",
   "execution_count": 122,
   "id": "afraid-brazil",
   "metadata": {},
   "outputs": [],
   "source": [
    "legit_parts = []\n",
    "for p in part_coords:\n",
    "    for c in p[1]:\n",
    "        if c in legit_coords:\n",
    "            legit_parts.append(p[0])\n",
    "            break\n"
   ]
  },
  {
   "cell_type": "code",
   "execution_count": 124,
   "id": "criminal-sitting",
   "metadata": {},
   "outputs": [
    {
     "data": {
      "text/plain": [
       "544664"
      ]
     },
     "execution_count": 124,
     "metadata": {},
     "output_type": "execute_result"
    }
   ],
   "source": [
    "sum = 0\n",
    "for p in legit_parts:\n",
    "    sum = sum + p\n",
    "sum"
   ]
  },
  {
   "cell_type": "markdown",
   "id": "selected-virgin",
   "metadata": {},
   "source": [
    "# Part 2"
   ]
  },
  {
   "cell_type": "code",
   "execution_count": 120,
   "id": "frequent-extraction",
   "metadata": {},
   "outputs": [],
   "source": [
    "gear_coords = []\n",
    "lines = get_input()\n",
    "\n",
    "for y in range(len(lines)):\n",
    "    for x in range(len(lines[y])):\n",
    "        if lines[y][x] == '*':\n",
    "            gear_coords.append((x,y))\n"
   ]
  },
  {
   "cell_type": "code",
   "execution_count": 121,
   "id": "regulated-walker",
   "metadata": {},
   "outputs": [
    {
     "data": {
      "text/plain": [
       "84495585"
      ]
     },
     "execution_count": 121,
     "metadata": {},
     "output_type": "execute_result"
    }
   ],
   "source": [
    "sum = 0\n",
    "for gc in gear_coords:\n",
    "    part_numbers = []\n",
    "    for p in part_coords:\n",
    "        for ac in get_coords_around(gc[0], gc[1]):\n",
    "            if ac in p[1]:\n",
    "                part_numbers.append(p[0])\n",
    "                break\n",
    "    if len(part_numbers) == 2:\n",
    "        sum = sum + (part_numbers[0]*part_numbers[1])\n",
    "    \n",
    "sum\n",
    "        "
   ]
  },
  {
   "cell_type": "code",
   "execution_count": null,
   "id": "spectacular-locator",
   "metadata": {},
   "outputs": [],
   "source": []
  },
  {
   "cell_type": "code",
   "execution_count": null,
   "id": "based-stevens",
   "metadata": {},
   "outputs": [],
   "source": []
  }
 ],
 "metadata": {
  "kernelspec": {
   "display_name": "Python 3",
   "language": "python",
   "name": "python3"
  },
  "language_info": {
   "codemirror_mode": {
    "name": "ipython",
    "version": 3
   },
   "file_extension": ".py",
   "mimetype": "text/x-python",
   "name": "python",
   "nbconvert_exporter": "python",
   "pygments_lexer": "ipython3",
   "version": "3.9.18"
  }
 },
 "nbformat": 4,
 "nbformat_minor": 5
}
