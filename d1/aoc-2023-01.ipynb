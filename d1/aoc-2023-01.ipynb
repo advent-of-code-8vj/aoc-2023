{
 "cells": [
  {
   "cell_type": "code",
   "execution_count": 5,
   "id": "aa9649f1-d754-46b7-a2eb-e9192bf3e581",
   "metadata": {},
   "outputs": [],
   "source": [
    "def get_input():\n",
    "    with open(\"input.txt\", \"r\") as input:\n",
    "    \tlines = input.readlines()\n",
    "    for i in range(len(lines)):\n",
    "        lines[i] = lines[i].replace('\\n', '')\n",
    "    return lines"
   ]
  },
  {
   "cell_type": "code",
   "execution_count": null,
   "id": "fd09627c-3c1d-409a-aa2d-0701edbceb48",
   "metadata": {},
   "outputs": [],
   "source": []
  },
  {
   "cell_type": "markdown",
   "id": "421e351d-690b-4947-a8a7-7d3e7c7fb05b",
   "metadata": {},
   "source": [
    "## Part 1"
   ]
  },
  {
   "cell_type": "code",
   "execution_count": 6,
   "id": "218546c0-b381-46c6-ad64-4f67e2b2d030",
   "metadata": {},
   "outputs": [
    {
     "data": {
      "text/plain": [
       "55108"
      ]
     },
     "execution_count": 6,
     "metadata": {},
     "output_type": "execute_result"
    }
   ],
   "source": [
    "sum = 0\n",
    "for line in get_input():\n",
    "    numbers = list(filter(lambda x: x.isdigit(), line))\n",
    "    sum = sum + int(numbers[0] + '' + numbers[-1])\n",
    "\n",
    "sum"
   ]
  },
  {
   "cell_type": "raw",
   "id": "e2516a27-f6c6-4369-9025-8020681fc13e",
   "metadata": {},
   "source": []
  },
  {
   "cell_type": "markdown",
   "id": "0c6764fa-a4cb-411a-90ce-01a503662615",
   "metadata": {},
   "source": [
    "# Part 2 "
   ]
  },
  {
   "cell_type": "code",
   "execution_count": 7,
   "id": "0f58d9de-c7f5-42ee-b4e0-3fe27bffcbd5",
   "metadata": {},
   "outputs": [],
   "source": [
    "import re"
   ]
  },
  {
   "cell_type": "code",
   "execution_count": 38,
   "id": "16be146a-a346-432f-a2fd-feebadad0794",
   "metadata": {},
   "outputs": [],
   "source": [
    "regex = re.compile(r'(?=([0-9]|one|two|three|four|five|six|seven|eight|nine))')\n",
    "def get_numbers(s):\n",
    "    return regex.findall(s)\n",
    "\n",
    "d = {}\n",
    "d['one'] = '1'\n",
    "d['two'] = '2'\n",
    "d['three'] = '3'\n",
    "d['four'] = '4'\n",
    "d['five'] = '5'\n",
    "d['six'] = '6'\n",
    "d['seven'] = '7'\n",
    "d['eight'] = '8'\n",
    "d['nine'] = '9'\n",
    "    \n",
    "sum = 0\n",
    "for line in get_input():\n",
    "    numbers = get_numbers(line)\n",
    "    f = numbers[0] if len(numbers[0]) <2 else d[numbers[0]]\n",
    "    l = numbers[-1] if len(numbers[-1]) <2 else d[numbers[-1]]\n",
    "    sum = sum + int(f  +  l)"
   ]
  },
  {
   "cell_type": "code",
   "execution_count": 39,
   "id": "41ced3dd-60d9-41ae-bbcb-25bc6e4f5b65",
   "metadata": {},
   "outputs": [
    {
     "name": "stdout",
     "output_type": "stream",
     "text": [
      "56324\n"
     ]
    }
   ],
   "source": [
    "print(sum)"
   ]
  },
  {
   "cell_type": "code",
   "execution_count": null,
   "id": "529e9ac5-821a-489e-9225-91916a2e62d9",
   "metadata": {},
   "outputs": [],
   "source": []
  },
  {
   "cell_type": "code",
   "execution_count": null,
   "id": "c8668a89-80a9-4f2c-b9a6-72aa9b5c7d7c",
   "metadata": {},
   "outputs": [],
   "source": []
  }
 ],
 "metadata": {
  "kernelspec": {
   "display_name": "Python 3 (ipykernel)",
   "language": "python",
   "name": "python3"
  },
  "language_info": {
   "codemirror_mode": {
    "name": "ipython",
    "version": 3
   },
   "file_extension": ".py",
   "mimetype": "text/x-python",
   "name": "python",
   "nbconvert_exporter": "python",
   "pygments_lexer": "ipython3",
   "version": "3.10.5"
  }
 },
 "nbformat": 4,
 "nbformat_minor": 5
}
